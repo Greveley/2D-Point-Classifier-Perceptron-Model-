{
 "cells": [
  {
   "cell_type": "code",
   "execution_count": 269,
   "metadata": {},
   "outputs": [],
   "source": [
    "# This code will implement a baseline, very simple, Perceptron to classify points in 2D space "
   ]
  },
  {
   "cell_type": "code",
   "execution_count": null,
   "metadata": {},
   "outputs": [],
   "source": []
  },
  {
   "cell_type": "code",
   "execution_count": 4,
   "metadata": {},
   "outputs": [],
   "source": [
    "import numpy as np \n",
    "import matplotlib.pyplot as plt"
   ]
  },
  {
   "cell_type": "code",
   "execution_count": 5,
   "metadata": {},
   "outputs": [
    {
     "data": {
      "text/plain": [
       "'In general there are X stages we go through to make a fully functional neural network:\\n1) Initialise the network \\n2) Forward Propagate\\n3) Back Propagate the error\\n4) Train Network (i.e. update the weights with training data)\\n5) Predict on test data\\n'"
      ]
     },
     "execution_count": 5,
     "metadata": {},
     "output_type": "execute_result"
    }
   ],
   "source": [
    "# Very simple neural network that works on classifying things from the wheat and seeds dataset \n",
    "\"\"\"In general there are X stages we go through to make a fully functional neural network:\n",
    "1) Initialise the network \n",
    "2) Forward Propagate\n",
    "3) Back Propagate the error\n",
    "4) Train Network (i.e. update the weights with training data)\n",
    "5) Predict on test data\n",
    "\"\"\"\n"
   ]
  },
  {
   "cell_type": "code",
   "execution_count": 6,
   "metadata": {},
   "outputs": [],
   "source": [
    "# define input features\n",
    "np.random.seed(2)\n",
    "num = 10000\n",
    "# Creating a random array of x , y points \n",
    "x = np.random.randn(num)*50\n",
    "y = np.random.randn(num)*50\n",
    "# Defining a cut off line to split the points into two sections \n",
    "x_line = np.linspace(-150,150,x.size)\n",
    "y_line = (1.5*x_line-25)"
   ]
  },
  {
   "cell_type": "code",
   "execution_count": 7,
   "metadata": {},
   "outputs": [],
   "source": [
    "# Generating a third column based on the position of the points on the 2D grid\n",
    "z = np.zeros((len(x),1))\n",
    "z[(1.5*x-25 > y)] = 1"
   ]
  },
  {
   "cell_type": "code",
   "execution_count": 8,
   "metadata": {},
   "outputs": [],
   "source": [
    "# Concatenating x,y,z into the fully labelled dataset\n",
    "x = x.reshape(x.size,1)\n",
    "y = y.reshape(y.size,1)\n",
    "z = z.reshape(z.size,1)\n",
    "data = np.concatenate([x,y,z],axis=1)\n",
    "# Extracting test data from the full dataset\n",
    "# Specifying a percentage of the full dataset\n",
    "train_perc = 0.1\n",
    "\n",
    "train_data = data[0:round(len(data)*train_perc/100),:]\n",
    "# Extracting test data\n",
    "test_data = data[round(len(data)*train_perc/100)::,:]"
   ]
  },
  {
   "cell_type": "code",
   "execution_count": 9,
   "metadata": {},
   "outputs": [
    {
     "data": {
      "text/plain": [
       "<matplotlib.legend.Legend at 0x11401d6a0>"
      ]
     },
     "execution_count": 9,
     "metadata": {},
     "output_type": "execute_result"
    },
    {
     "data": {
      "image/png": "[encoded data removed]",
      "text/plain": [
       "<Figure size 432x288 with 1 Axes>"
      ]
     },
     "metadata": {
      "needs_background": "light"
     },
     "output_type": "display_data"
    }
   ],
   "source": [
    "# Plotting test data\n",
    "td1 = train_data[(train_data[:,2]==0)] \n",
    "td2 = train_data[(train_data[:,2]==1)] \n",
    "plt.scatter(x,y,label='Whole Data Set')\n",
    "plt.scatter(td1[:,0],td1[:,1],label='Training Points A')\n",
    "plt.scatter(td2[:,0],td2[:,1],label='Training Points B')\n",
    "plt.plot(x_line,y_line,'b',linewidth=5)\n",
    "plt.xlabel('X')\n",
    "plt.ylabel('Y')\n",
    "plt.legend()"
   ]
  },
  {
   "cell_type": "code",
   "execution_count": 10,
   "metadata": {},
   "outputs": [
    {
     "name": "stdout",
     "output_type": "stream",
     "text": [
      "(2, 10)\n",
      "[[ -20.83789237  -40.40893038   -2.81334136  -26.50126648 -106.80980478\n",
      "   -14.52013077   82.01354042  -17.76163858  -89.67177926  -98.25276882]\n",
      " [ -42.08736828   27.20167987   25.14407086  -43.45353135  -62.26440433\n",
      "    11.01054377  -52.89761094  -78.21391593  -45.45038075  -62.07678387]]\n"
     ]
    }
   ],
   "source": [
    "# Extracting input features from test data (i.e. x,y locations)\n",
    "input_feats = train_data[:,(0,1)].reshape(2,len(train_data))\n",
    "print (input_feats.shape)\n",
    "print (input_feats)"
   ]
  },
  {
   "cell_type": "code",
   "execution_count": 11,
   "metadata": {},
   "outputs": [
    {
     "name": "stdout",
     "output_type": "stream",
     "text": [
      "(1, 10)\n",
      "[[0. 0. 0. 1. 0. 0. 1. 0. 0. 0.]]\n"
     ]
    }
   ],
   "source": [
    "# Defining expected outputs (i.e. 0/1 depending on where the points lie)\n",
    "target = train_data[:,2]\n",
    "target = target.reshape(1,input_feats.shape[1])\n",
    "print (target.shape)\n",
    "print (target)"
   ]
  },
  {
   "cell_type": "code",
   "execution_count": 12,
   "metadata": {},
   "outputs": [],
   "source": [
    "# Create weights\n",
    "\n",
    "def init_network(structure):\n",
    "    \n",
    "    np.random.seed(1)\n",
    "    \n",
    "    \"\"\"Takes in 4 variables: Number of inputs, number of neurons in hidden layer 1, number of neurons in hidden\n",
    "       layer 2, number of outputs and creates the weights and bias matrices\"\"\"\n",
    "    layers = len(structure)\n",
    "    weights = []\n",
    "    biases = []\n",
    "    \n",
    "    for i in range(1,layers):\n",
    "        weights.append([np.random.randn(structure[i], structure[i-1])])\n",
    "        biases.append([np.random.randn(structure[i])])\n",
    "\n",
    "        # Fixing shapes of arrays in the list \n",
    "        weights[i-1] = np.array(weights[i-1]).reshape(structure[i], structure[i-1])\n",
    "        biases[i-1] = np.array(biases[i-1]).reshape(structure[i],1)\n",
    "\n",
    "    print (\"WEIGHTS :\")\n",
    "    print (weights)\n",
    "    print (\"BIASES : \")\n",
    "    print (biases)\n",
    "    \n",
    "    return (weights, biases)"
   ]
  },
  {
   "cell_type": "code",
   "execution_count": 13,
   "metadata": {},
   "outputs": [
    {
     "name": "stdout",
     "output_type": "stream",
     "text": [
      "WEIGHTS :\n",
      "[array([[ 1.62434536, -0.61175641],\n",
      "       [-0.52817175, -1.07296862],\n",
      "       [ 0.86540763, -2.3015387 ],\n",
      "       [ 1.74481176, -0.7612069 ],\n",
      "       [ 0.3190391 , -0.24937038]]), array([[-1.09989127, -0.17242821, -0.87785842,  0.04221375,  0.58281521],\n",
      "       [-1.10061918,  1.14472371,  0.90159072,  0.50249434,  0.90085595],\n",
      "       [-0.68372786, -0.12289023, -0.93576943, -0.26788808,  0.53035547]]), array([[-0.84520564, -0.67124613, -0.0126646 ]])]\n",
      "BIASES : \n",
      "[array([[ 1.46210794],\n",
      "       [-2.06014071],\n",
      "       [-0.3224172 ],\n",
      "       [-0.38405435],\n",
      "       [ 1.13376944]]), array([[-0.69166075],\n",
      "       [-0.39675353],\n",
      "       [-0.6871727 ]]), array([[-1.11731035]])]\n"
     ]
    }
   ],
   "source": [
    "n_in = 2\n",
    "n_hid = 5\n",
    "n_hid2 = 3\n",
    "n_out = 1\n",
    "\n",
    "structure = [n_in, n_hid, n_hid2, n_out]\n",
    "\n",
    "weights, biases = init_network(structure)"
   ]
  },
  {
   "cell_type": "code",
   "execution_count": 14,
   "metadata": {},
   "outputs": [
    {
     "data": {
      "text/plain": [
       "(5, 1)"
      ]
     },
     "execution_count": 14,
     "metadata": {},
     "output_type": "execute_result"
    }
   ],
   "source": [
    "biases[0].shape"
   ]
  },
  {
   "cell_type": "code",
   "execution_count": 15,
   "metadata": {},
   "outputs": [
    {
     "data": {
      "text/plain": [
       "(5, 2)"
      ]
     },
     "execution_count": 15,
     "metadata": {},
     "output_type": "execute_result"
    }
   ],
   "source": [
    "weights[0].shape"
   ]
  },
  {
   "cell_type": "code",
   "execution_count": null,
   "metadata": {},
   "outputs": [],
   "source": []
  },
  {
   "cell_type": "code",
   "execution_count": 16,
   "metadata": {},
   "outputs": [],
   "source": [
    "# Sigmoid activation function \n",
    "def sigmoid(X): \n",
    "    out = 1/(1+np.exp(-X))\n",
    "    return out "
   ]
  },
  {
   "cell_type": "code",
   "execution_count": 17,
   "metadata": {},
   "outputs": [],
   "source": [
    "# Derivative of sigmoid activation function (used in the gradient descent back propagation)\n",
    "def sigmoid_der(X):  \n",
    "    out = sigmoid(X)*(1-sigmoid(X))\n",
    "    return out"
   ]
  },
  {
   "cell_type": "code",
   "execution_count": 18,
   "metadata": {},
   "outputs": [],
   "source": [
    "def feed_forward(input_feats, weights, biases, structure):\n",
    "    \n",
    "    \"\"\"Feed forward part of the NN\"\"\"\n",
    "    layers = len(structure)\n",
    "    num = input_feats.shape[1]\n",
    "    a = []\n",
    "    z = []\n",
    "    layer_output = input_feats\n",
    "    for i in range(0,layers-1):\n",
    "        z.append(np.dot(weights[i],layer_output)+biases[i])\n",
    "        # Fixing shapes of arrays in the list \n",
    "        z[i] = np.array(z[i]).reshape(structure[i+1],num)\n",
    "        a.append(sigmoid(z[i]))\n",
    "        # Fixing shapes of arrays in the list \n",
    "        a[i] = np.array(a[i]).reshape(structure[i+1],num)\n",
    "        layer_output = a[i]\n",
    "    return (layer_output,a,z)\n",
    "\n",
    "    "
   ]
  },
  {
   "cell_type": "code",
   "execution_count": 19,
   "metadata": {},
   "outputs": [],
   "source": [
    "y_hat, a, z = feed_forward(input_feats,weights, biases, structure)"
   ]
  },
  {
   "cell_type": "code",
   "execution_count": 20,
   "metadata": {},
   "outputs": [],
   "source": [
    "def compute_cost(a, target):\n",
    "    cost = np.sum(y_hat-target)\n",
    "    return cost"
   ]
  },
  {
   "cell_type": "code",
   "execution_count": 30,
   "metadata": {},
   "outputs": [
    {
     "name": "stdout",
     "output_type": "stream",
     "text": [
      "(5, 10)\n",
      "(3, 10)\n",
      "(1, 10)\n"
     ]
    }
   ],
   "source": [
    "print (a[0].shape)\n",
    "print (a[1].shape)\n",
    "print (a[2].shape)"
   ]
  },
  {
   "cell_type": "code",
   "execution_count": 1,
   "metadata": {},
   "outputs": [],
   "source": [
    "def back_propagation(a, z, target, input_feats,structure):\n",
    "    \n",
    "    \"\"\"Implementing the backpropagation\"\"\"\n",
    "    for i in reversed(range(0,len(structure))):\n",
    "        y_hat = a[i]\n",
    "        error = y_hat - target \n",
    "    \n",
    "        deriv = error * sigmoid_der(a)\n",
    "    \n",
    "        # Calculating the error vector \n",
    "        error = y_hat - target\n",
    "        # Calculating deriv\n",
    "        deriv = (error * sigmoid_der(z))\n",
    "\n",
    "        # Calculating dError/dWeights\n",
    "        #dE_dw = np.dot(input_feats.T,deriv)\n",
    "        # Updating weights \n",
    "        #weights_run -=(l_rate * dE_dw)"
   ]
  },
  {
   "cell_type": "code",
   "execution_count": 2,
   "metadata": {},
   "outputs": [
    {
     "ename": "NameError",
     "evalue": "name 'a' is not defined",
     "output_type": "error",
     "traceback": [
      "\u001b[0;31m---------------------------------------------------------------------------\u001b[0m",
      "\u001b[0;31mNameError\u001b[0m                                 Traceback (most recent call last)",
      "\u001b[0;32m<ipython-input-2-ae340283bf72>\u001b[0m in \u001b[0;36m<module>\u001b[0;34m\u001b[0m\n\u001b[0;32m----> 1\u001b[0;31m \u001b[0mback_propagation\u001b[0m\u001b[0;34m(\u001b[0m\u001b[0ma\u001b[0m\u001b[0;34m,\u001b[0m \u001b[0mz\u001b[0m\u001b[0;34m,\u001b[0m \u001b[0mtarget\u001b[0m\u001b[0;34m,\u001b[0m \u001b[0minput_feats\u001b[0m\u001b[0;34m,\u001b[0m\u001b[0mstructure\u001b[0m\u001b[0;34m)\u001b[0m\u001b[0;34m\u001b[0m\u001b[0;34m\u001b[0m\u001b[0m\n\u001b[0m",
      "\u001b[0;31mNameError\u001b[0m: name 'a' is not defined"
     ]
    }
   ],
   "source": [
    "back_propagation(a, z, target, input_feats,structure)"
   ]
  },
  {
   "cell_type": "code",
   "execution_count": 464,
   "metadata": {},
   "outputs": [],
   "source": [
    "def train(input_feats, weights, bias, target, l_rate, epoch):\n",
    "    \n",
    "    cost = np.zeros((epoch,1))\n",
    "    \n",
    "    weights_run = weights\n",
    "    bias_run = bias\n",
    "    \n",
    "    for epoch in np.arange(0,epoch):\n",
    "        # Feed forward \n",
    "        y_hat, a, z = feed_forward(test_input,weights, biases, structure)       \n",
    "        # Calculating cost value for the network \n",
    "        cost = compute_cost(y_hat, target)\n",
    "        # Calculating the error vector \n",
    "        error = y_hat - target\n",
    "        # Calculating deriv\n",
    "        deriv = (error * sigmoid_der(z))\n",
    "        # Calculating dError/dWeights\n",
    "        dE_dw = np.dot(input_feats.T,deriv)\n",
    "        # Updating weights \n",
    "        weights_run -=(l_rate * dE_dw)\n",
    "        # Updating bias\n",
    "        for i in deriv:\n",
    "            bias_run -= l_rate * i\n",
    "        \n",
    "    return cost, weights_run, bias_run"
   ]
  },
  {
   "cell_type": "code",
   "execution_count": 95,
   "metadata": {},
   "outputs": [
    {
     "ename": "ValueError",
     "evalue": "setting an array element with a sequence.",
     "output_type": "error",
     "traceback": [
      "\u001b[0;31m---------------------------------------------------------------------------\u001b[0m",
      "\u001b[0;31mValueError\u001b[0m                                Traceback (most recent call last)",
      "\u001b[0;32m<ipython-input-95-0dd144e6af8e>\u001b[0m in \u001b[0;36m<module>\u001b[0;34m\u001b[0m\n\u001b[1;32m      1\u001b[0m \u001b[0mepoch\u001b[0m \u001b[0;34m=\u001b[0m \u001b[0;36m1000\u001b[0m\u001b[0;34m\u001b[0m\u001b[0;34m\u001b[0m\u001b[0m\n\u001b[1;32m      2\u001b[0m \u001b[0mepochs\u001b[0m \u001b[0;34m=\u001b[0m \u001b[0mrange\u001b[0m\u001b[0;34m(\u001b[0m\u001b[0mepoch\u001b[0m\u001b[0;34m)\u001b[0m\u001b[0;34m\u001b[0m\u001b[0;34m\u001b[0m\u001b[0m\n\u001b[0;32m----> 3\u001b[0;31m \u001b[0mcost\u001b[0m\u001b[0;34m,\u001b[0m \u001b[0mweights_run\u001b[0m \u001b[0;34m,\u001b[0m \u001b[0mbias_run\u001b[0m \u001b[0;34m=\u001b[0m \u001b[0mtrain\u001b[0m\u001b[0;34m(\u001b[0m\u001b[0;34m(\u001b[0m\u001b[0minput_feats\u001b[0m\u001b[0;34m)\u001b[0m\u001b[0;34m,\u001b[0m \u001b[0mweights\u001b[0m\u001b[0;34m,\u001b[0m \u001b[0mbiases\u001b[0m\u001b[0;34m,\u001b[0m \u001b[0mtarget\u001b[0m\u001b[0;34m,\u001b[0m \u001b[0;36m0.001\u001b[0m\u001b[0;34m,\u001b[0m \u001b[0mepoch\u001b[0m\u001b[0;34m)\u001b[0m\u001b[0;34m\u001b[0m\u001b[0;34m\u001b[0m\u001b[0m\n\u001b[0m\u001b[1;32m      4\u001b[0m \u001b[0;34m\u001b[0m\u001b[0m\n\u001b[1;32m      5\u001b[0m \u001b[0mplt\u001b[0m\u001b[0;34m.\u001b[0m\u001b[0mscatter\u001b[0m\u001b[0;34m(\u001b[0m\u001b[0mepochs\u001b[0m\u001b[0;34m,\u001b[0m\u001b[0mcost\u001b[0m\u001b[0;34m)\u001b[0m\u001b[0;34m\u001b[0m\u001b[0;34m\u001b[0m\u001b[0m\n",
      "\u001b[0;32m<ipython-input-94-cc2943cd55a9>\u001b[0m in \u001b[0;36mtrain\u001b[0;34m(input_feats, weights, bias, target, l_rate, epoch)\u001b[0m\n\u001b[1;32m      8\u001b[0m     \u001b[0;32mfor\u001b[0m \u001b[0mepoch\u001b[0m \u001b[0;32min\u001b[0m \u001b[0mnp\u001b[0m\u001b[0;34m.\u001b[0m\u001b[0marange\u001b[0m\u001b[0;34m(\u001b[0m\u001b[0;36m0\u001b[0m\u001b[0;34m,\u001b[0m\u001b[0mepoch\u001b[0m\u001b[0;34m)\u001b[0m\u001b[0;34m:\u001b[0m\u001b[0;34m\u001b[0m\u001b[0;34m\u001b[0m\u001b[0m\n\u001b[1;32m      9\u001b[0m         \u001b[0;31m# Feed forward\u001b[0m\u001b[0;34m\u001b[0m\u001b[0;34m\u001b[0m\u001b[0;34m\u001b[0m\u001b[0m\n\u001b[0;32m---> 10\u001b[0;31m         \u001b[0ma\u001b[0m \u001b[0;34m=\u001b[0m \u001b[0mnp\u001b[0m\u001b[0;34m.\u001b[0m\u001b[0mdot\u001b[0m\u001b[0;34m(\u001b[0m\u001b[0minput_feats\u001b[0m\u001b[0;34m,\u001b[0m\u001b[0mweights_run\u001b[0m\u001b[0;34m)\u001b[0m\u001b[0;34m+\u001b[0m\u001b[0mbias_run\u001b[0m\u001b[0;34m\u001b[0m\u001b[0;34m\u001b[0m\u001b[0m\n\u001b[0m\u001b[1;32m     11\u001b[0m         \u001b[0;31m# Pass through activation\u001b[0m\u001b[0;34m\u001b[0m\u001b[0;34m\u001b[0m\u001b[0;34m\u001b[0m\u001b[0m\n\u001b[1;32m     12\u001b[0m         \u001b[0mz\u001b[0m \u001b[0;34m=\u001b[0m \u001b[0msigmoid\u001b[0m\u001b[0;34m(\u001b[0m\u001b[0ma\u001b[0m\u001b[0;34m)\u001b[0m\u001b[0;34m\u001b[0m\u001b[0;34m\u001b[0m\u001b[0m\n",
      "\u001b[0;31mValueError\u001b[0m: setting an array element with a sequence."
     ]
    }
   ],
   "source": [
    "epoch = 1000\n",
    "epochs = range(epoch)\n",
    "cost, weights_run , bias_run = train((input_feats), weights, biases, target, 0.001, epoch)\n",
    "\n",
    "plt.scatter(epochs,cost)\n",
    "plt.xlabel('Epoch')\n",
    "plt.ylabel('Cost')"
   ]
  },
  {
   "cell_type": "code",
   "execution_count": 13,
   "metadata": {},
   "outputs": [
    {
     "ename": "NameError",
     "evalue": "name 'bias' is not defined",
     "output_type": "error",
     "traceback": [
      "\u001b[0;31m---------------------------------------------------------------------------\u001b[0m",
      "\u001b[0;31mNameError\u001b[0m                                 Traceback (most recent call last)",
      "\u001b[0;32m<ipython-input-13-e9200a702e22>\u001b[0m in \u001b[0;36m<module>\u001b[0;34m\u001b[0m\n\u001b[1;32m      3\u001b[0m \u001b[0;31m# Normalising inputs to ensure stability\u001b[0m\u001b[0;34m\u001b[0m\u001b[0;34m\u001b[0m\u001b[0;34m\u001b[0m\u001b[0m\n\u001b[1;32m      4\u001b[0m \u001b[0mnorm_input\u001b[0m \u001b[0;34m=\u001b[0m \u001b[0;34m(\u001b[0m\u001b[0minput_feats\u001b[0m\u001b[0;34m)\u001b[0m\u001b[0;34m/\u001b[0m\u001b[0mnp\u001b[0m\u001b[0;34m.\u001b[0m\u001b[0mmax\u001b[0m\u001b[0;34m(\u001b[0m\u001b[0minput_feats\u001b[0m\u001b[0;34m)\u001b[0m\u001b[0;34m\u001b[0m\u001b[0;34m\u001b[0m\u001b[0m\n\u001b[0;32m----> 5\u001b[0;31m \u001b[0mcost\u001b[0m\u001b[0;34m,\u001b[0m \u001b[0mweights_run\u001b[0m \u001b[0;34m,\u001b[0m \u001b[0mbias_run\u001b[0m \u001b[0;34m=\u001b[0m \u001b[0mtrain\u001b[0m\u001b[0;34m(\u001b[0m\u001b[0mnorm_input\u001b[0m\u001b[0;34m,\u001b[0m \u001b[0mweights\u001b[0m\u001b[0;34m,\u001b[0m \u001b[0mbias\u001b[0m\u001b[0;34m,\u001b[0m \u001b[0mtarget\u001b[0m\u001b[0;34m,\u001b[0m \u001b[0;36m0.001\u001b[0m\u001b[0;34m,\u001b[0m \u001b[0mepoch\u001b[0m\u001b[0;34m)\u001b[0m\u001b[0;34m\u001b[0m\u001b[0;34m\u001b[0m\u001b[0m\n\u001b[0m\u001b[1;32m      6\u001b[0m \u001b[0;34m\u001b[0m\u001b[0m\n\u001b[1;32m      7\u001b[0m \u001b[0mplt\u001b[0m\u001b[0;34m.\u001b[0m\u001b[0mscatter\u001b[0m\u001b[0;34m(\u001b[0m\u001b[0mepochs\u001b[0m\u001b[0;34m,\u001b[0m\u001b[0mcost\u001b[0m\u001b[0;34m)\u001b[0m\u001b[0;34m\u001b[0m\u001b[0;34m\u001b[0m\u001b[0m\n",
      "\u001b[0;31mNameError\u001b[0m: name 'bias' is not defined"
     ]
    }
   ],
   "source": [
    "epoch = 10000\n",
    "epochs = range(epoch)\n",
    "# Normalising inputs to ensure stability\n",
    "norm_input = (input_feats)/np.max(input_feats)\n",
    "cost, weights_run , bias_run = train(norm_input, weights, bias, target, 0.001, epoch)\n",
    "\n",
    "plt.scatter(epochs,cost)\n",
    "plt.xlabel('Epoch')\n",
    "plt.ylabel('Cost')"
   ]
  },
  {
   "cell_type": "code",
   "execution_count": 14,
   "metadata": {},
   "outputs": [
    {
     "ename": "NameError",
     "evalue": "name 'weights_run' is not defined",
     "output_type": "error",
     "traceback": [
      "\u001b[0;31m---------------------------------------------------------------------------\u001b[0m",
      "\u001b[0;31mNameError\u001b[0m                                 Traceback (most recent call last)",
      "\u001b[0;32m<ipython-input-14-71976f5256f0>\u001b[0m in \u001b[0;36m<module>\u001b[0;34m\u001b[0m\n\u001b[0;32m----> 1\u001b[0;31m \u001b[0mprint\u001b[0m \u001b[0;34m(\u001b[0m\u001b[0mweights_run\u001b[0m\u001b[0;34m)\u001b[0m\u001b[0;34m\u001b[0m\u001b[0;34m\u001b[0m\u001b[0m\n\u001b[0m\u001b[1;32m      2\u001b[0m \u001b[0mprint\u001b[0m \u001b[0;34m(\u001b[0m\u001b[0mbias_run\u001b[0m\u001b[0;34m)\u001b[0m\u001b[0;34m\u001b[0m\u001b[0;34m\u001b[0m\u001b[0m\n",
      "\u001b[0;31mNameError\u001b[0m: name 'weights_run' is not defined"
     ]
    }
   ],
   "source": [
    "print (weights_run)\n",
    "print (bias_run)"
   ]
  },
  {
   "cell_type": "code",
   "execution_count": 15,
   "metadata": {},
   "outputs": [],
   "source": [
    "# Testing on data"
   ]
  },
  {
   "cell_type": "code",
   "execution_count": 16,
   "metadata": {},
   "outputs": [
    {
     "name": "stdout",
     "output_type": "stream",
     "text": [
      "Test point = (-38.02340888056949, 32.96463972133629), Expected output = 0.0\n"
     ]
    }
   ],
   "source": [
    "test_row = 2780\n",
    "test = test_data[test_row,:]\n",
    "test_point = test_data[test_row,(0,1)] \n",
    "print (\"Test point = (%s, %s), Expected output = %s\" %(test_data[test_row,0],test_data[test_row,1],test_data[test_row,2]))"
   ]
  },
  {
   "cell_type": "code",
   "execution_count": 17,
   "metadata": {},
   "outputs": [],
   "source": [
    "# test_features \n",
    "test_feats = test_data[:,(0,1)]\n",
    "norm_test_feats = test_feats/np.max(test_feats)\n",
    "test_target = test_data[:,2]\n"
   ]
  },
  {
   "cell_type": "code",
   "execution_count": 18,
   "metadata": {},
   "outputs": [
    {
     "ename": "NameError",
     "evalue": "name 'weights_run' is not defined",
     "output_type": "error",
     "traceback": [
      "\u001b[0;31m---------------------------------------------------------------------------\u001b[0m",
      "\u001b[0;31mNameError\u001b[0m                                 Traceback (most recent call last)",
      "\u001b[0;32m<ipython-input-18-432aa0004cb0>\u001b[0m in \u001b[0;36m<module>\u001b[0;34m\u001b[0m\n\u001b[1;32m      1\u001b[0m \u001b[0;31m# Forward propagating\u001b[0m\u001b[0;34m\u001b[0m\u001b[0;34m\u001b[0m\u001b[0;34m\u001b[0m\u001b[0m\n\u001b[0;32m----> 2\u001b[0;31m \u001b[0ma\u001b[0m \u001b[0;34m=\u001b[0m \u001b[0mnp\u001b[0m\u001b[0;34m.\u001b[0m\u001b[0mdot\u001b[0m\u001b[0;34m(\u001b[0m\u001b[0mnorm_test_feats\u001b[0m\u001b[0;34m,\u001b[0m \u001b[0mweights_run\u001b[0m\u001b[0;34m)\u001b[0m \u001b[0;34m+\u001b[0m \u001b[0mbias_run\u001b[0m\u001b[0;34m\u001b[0m\u001b[0;34m\u001b[0m\u001b[0m\n\u001b[0m\u001b[1;32m      3\u001b[0m \u001b[0;34m\u001b[0m\u001b[0m\n\u001b[1;32m      4\u001b[0m \u001b[0;31m# Activation function\u001b[0m\u001b[0;34m\u001b[0m\u001b[0;34m\u001b[0m\u001b[0;34m\u001b[0m\u001b[0m\n\u001b[1;32m      5\u001b[0m \u001b[0mz_train\u001b[0m \u001b[0;34m=\u001b[0m \u001b[0msigmoid\u001b[0m\u001b[0;34m(\u001b[0m\u001b[0ma\u001b[0m\u001b[0;34m)\u001b[0m\u001b[0;34m\u001b[0m\u001b[0;34m\u001b[0m\u001b[0m\n",
      "\u001b[0;31mNameError\u001b[0m: name 'weights_run' is not defined"
     ]
    }
   ],
   "source": [
    "# Forward propagating\n",
    "a = np.dot(norm_test_feats, weights_run) + bias_run\n",
    "\n",
    "# Activation function \n",
    "z_train = sigmoid(a)"
   ]
  },
  {
   "cell_type": "code",
   "execution_count": 19,
   "metadata": {},
   "outputs": [
    {
     "ename": "NameError",
     "evalue": "name 'z_train' is not defined",
     "output_type": "error",
     "traceback": [
      "\u001b[0;31m---------------------------------------------------------------------------\u001b[0m",
      "\u001b[0;31mNameError\u001b[0m                                 Traceback (most recent call last)",
      "\u001b[0;32m<ipython-input-19-ea1ac1f7beaf>\u001b[0m in \u001b[0;36m<module>\u001b[0;34m\u001b[0m\n\u001b[1;32m      1\u001b[0m \u001b[0mtest_target\u001b[0m \u001b[0;34m=\u001b[0m \u001b[0mtest_target\u001b[0m\u001b[0;34m.\u001b[0m\u001b[0mreshape\u001b[0m\u001b[0;34m(\u001b[0m\u001b[0mlen\u001b[0m\u001b[0;34m(\u001b[0m\u001b[0mtest_feats\u001b[0m\u001b[0;34m)\u001b[0m\u001b[0;34m,\u001b[0m\u001b[0;36m1\u001b[0m\u001b[0;34m)\u001b[0m\u001b[0;34m\u001b[0m\u001b[0;34m\u001b[0m\u001b[0m\n\u001b[1;32m      2\u001b[0m \u001b[0;31m#z_train = z_train.reshape(9000,1)\u001b[0m\u001b[0;34m\u001b[0m\u001b[0;34m\u001b[0m\u001b[0;34m\u001b[0m\u001b[0m\n\u001b[0;32m----> 3\u001b[0;31m \u001b[0mprint\u001b[0m \u001b[0;34m(\u001b[0m\u001b[0mnp\u001b[0m\u001b[0;34m.\u001b[0m\u001b[0mconcatenate\u001b[0m\u001b[0;34m(\u001b[0m\u001b[0;34m[\u001b[0m\u001b[0mtest_target\u001b[0m\u001b[0;34m,\u001b[0m\u001b[0mz_train\u001b[0m\u001b[0;34m,\u001b[0m\u001b[0mtest_target\u001b[0m \u001b[0;34m-\u001b[0m \u001b[0mz_train\u001b[0m\u001b[0;34m]\u001b[0m\u001b[0;34m,\u001b[0m\u001b[0maxis\u001b[0m\u001b[0;34m=\u001b[0m\u001b[0;36m1\u001b[0m\u001b[0;34m)\u001b[0m\u001b[0;34m)\u001b[0m\u001b[0;34m\u001b[0m\u001b[0;34m\u001b[0m\u001b[0m\n\u001b[0m",
      "\u001b[0;31mNameError\u001b[0m: name 'z_train' is not defined"
     ]
    }
   ],
   "source": [
    "test_target = test_target.reshape(len(test_feats),1)\n",
    "#z_train = z_train.reshape(9000,1)\n",
    "print (np.concatenate([test_target,z_train,test_target - z_train],axis=1))"
   ]
  },
  {
   "cell_type": "code",
   "execution_count": 20,
   "metadata": {},
   "outputs": [
    {
     "ename": "NameError",
     "evalue": "name 'z_train' is not defined",
     "output_type": "error",
     "traceback": [
      "\u001b[0;31m---------------------------------------------------------------------------\u001b[0m",
      "\u001b[0;31mNameError\u001b[0m                                 Traceback (most recent call last)",
      "\u001b[0;32m<ipython-input-20-b130271da904>\u001b[0m in \u001b[0;36m<module>\u001b[0;34m\u001b[0m\n\u001b[0;32m----> 1\u001b[0;31m \u001b[0mround_train\u001b[0m \u001b[0;34m=\u001b[0m \u001b[0mnp\u001b[0m\u001b[0;34m.\u001b[0m\u001b[0mround\u001b[0m\u001b[0;34m(\u001b[0m\u001b[0mz_train\u001b[0m\u001b[0;34m)\u001b[0m\u001b[0;34m\u001b[0m\u001b[0;34m\u001b[0m\u001b[0m\n\u001b[0m\u001b[1;32m      2\u001b[0m \u001b[0merror\u001b[0m \u001b[0;34m=\u001b[0m \u001b[0;34m(\u001b[0m\u001b[0mtest_target\u001b[0m \u001b[0;34m-\u001b[0m \u001b[0mz_train\u001b[0m\u001b[0;34m)\u001b[0m\u001b[0;34m\u001b[0m\u001b[0;34m\u001b[0m\u001b[0m\n\u001b[1;32m      3\u001b[0m \u001b[0mround_error\u001b[0m \u001b[0;34m=\u001b[0m \u001b[0;34m(\u001b[0m\u001b[0mnp\u001b[0m\u001b[0;34m.\u001b[0m\u001b[0mround\u001b[0m\u001b[0;34m(\u001b[0m\u001b[0merror\u001b[0m\u001b[0;34m)\u001b[0m\u001b[0;34m)\u001b[0m\u001b[0;34m\u001b[0m\u001b[0;34m\u001b[0m\u001b[0m\n\u001b[1;32m      4\u001b[0m \u001b[0mMSE\u001b[0m \u001b[0;34m=\u001b[0m \u001b[0mnp\u001b[0m\u001b[0;34m.\u001b[0m\u001b[0msum\u001b[0m\u001b[0;34m(\u001b[0m\u001b[0mpow\u001b[0m\u001b[0;34m(\u001b[0m\u001b[0mround_error\u001b[0m\u001b[0;34m,\u001b[0m\u001b[0;36m2\u001b[0m\u001b[0;34m)\u001b[0m\u001b[0;34m)\u001b[0m\u001b[0;34m/\u001b[0m\u001b[0mlen\u001b[0m\u001b[0;34m(\u001b[0m\u001b[0mtest_data\u001b[0m\u001b[0;34m)\u001b[0m\u001b[0;34m\u001b[0m\u001b[0;34m\u001b[0m\u001b[0m\n\u001b[1;32m      5\u001b[0m \u001b[0mMAE\u001b[0m \u001b[0;34m=\u001b[0m \u001b[0mnp\u001b[0m\u001b[0;34m.\u001b[0m\u001b[0mmean\u001b[0m\u001b[0;34m(\u001b[0m\u001b[0mabs\u001b[0m\u001b[0;34m(\u001b[0m\u001b[0mround_error\u001b[0m\u001b[0;34m)\u001b[0m\u001b[0;34m)\u001b[0m\u001b[0;34m\u001b[0m\u001b[0;34m\u001b[0m\u001b[0m\n",
      "\u001b[0;31mNameError\u001b[0m: name 'z_train' is not defined"
     ]
    }
   ],
   "source": [
    "round_train = np.round(z_train)\n",
    "error = (test_target - z_train)\n",
    "round_error = (np.round(error))\n",
    "MSE = np.sum(pow(round_error,2))/len(test_data)\n",
    "MAE = np.mean(abs(round_error))\n",
    "print (\"MSE = %s\"%(MSE))\n",
    "print (\"MAE = %s\"%(MAE))"
   ]
  },
  {
   "cell_type": "code",
   "execution_count": 21,
   "metadata": {},
   "outputs": [
    {
     "ename": "NameError",
     "evalue": "name 'round_train' is not defined",
     "output_type": "error",
     "traceback": [
      "\u001b[0;31m---------------------------------------------------------------------------\u001b[0m",
      "\u001b[0;31mNameError\u001b[0m                                 Traceback (most recent call last)",
      "\u001b[0;32m<ipython-input-21-90978a74882d>\u001b[0m in \u001b[0;36m<module>\u001b[0;34m\u001b[0m\n\u001b[1;32m      1\u001b[0m \u001b[0;31m# Getting correct predictions\u001b[0m\u001b[0;34m\u001b[0m\u001b[0;34m\u001b[0m\u001b[0;34m\u001b[0m\u001b[0m\n\u001b[0;32m----> 2\u001b[0;31m \u001b[0mcorrect\u001b[0m \u001b[0;34m=\u001b[0m \u001b[0mtest_target\u001b[0m\u001b[0;34m[\u001b[0m\u001b[0;34m(\u001b[0m\u001b[0mtest_target\u001b[0m\u001b[0;34m==\u001b[0m\u001b[0mround_train\u001b[0m\u001b[0;34m)\u001b[0m\u001b[0;34m]\u001b[0m\u001b[0;34m\u001b[0m\u001b[0;34m\u001b[0m\u001b[0m\n\u001b[0m\u001b[1;32m      3\u001b[0m \u001b[0mincorrect\u001b[0m \u001b[0;34m=\u001b[0m \u001b[0mtest_target\u001b[0m\u001b[0;34m[\u001b[0m\u001b[0;34m(\u001b[0m\u001b[0mtest_target\u001b[0m\u001b[0;34m!=\u001b[0m\u001b[0mround_train\u001b[0m\u001b[0;34m)\u001b[0m\u001b[0;34m]\u001b[0m\u001b[0;34m\u001b[0m\u001b[0;34m\u001b[0m\u001b[0m\n\u001b[1;32m      4\u001b[0m \u001b[0maccuracy\u001b[0m \u001b[0;34m=\u001b[0m \u001b[0;34m(\u001b[0m\u001b[0mlen\u001b[0m\u001b[0;34m(\u001b[0m\u001b[0mcorrect\u001b[0m\u001b[0;34m)\u001b[0m\u001b[0;34m/\u001b[0m\u001b[0mlen\u001b[0m\u001b[0;34m(\u001b[0m\u001b[0mtest_target\u001b[0m\u001b[0;34m)\u001b[0m\u001b[0;34m)\u001b[0m\u001b[0;34m*\u001b[0m\u001b[0;36m100\u001b[0m\u001b[0;34m\u001b[0m\u001b[0;34m\u001b[0m\u001b[0m\n\u001b[1;32m      5\u001b[0m \u001b[0mprint\u001b[0m \u001b[0;34m(\u001b[0m\u001b[0;34m\"Accuracy = %s percent\"\u001b[0m\u001b[0;34m%\u001b[0m\u001b[0;34m(\u001b[0m\u001b[0maccuracy\u001b[0m\u001b[0;34m)\u001b[0m\u001b[0;34m)\u001b[0m\u001b[0;34m\u001b[0m\u001b[0;34m\u001b[0m\u001b[0m\n",
      "\u001b[0;31mNameError\u001b[0m: name 'round_train' is not defined"
     ]
    }
   ],
   "source": [
    "# Getting correct predictions\n",
    "correct = test_target[(test_target==round_train)]\n",
    "incorrect = test_target[(test_target!=round_train)]\n",
    "accuracy = (len(correct)/len(test_target))*100\n",
    "print (\"Accuracy = %s percent\"%(accuracy))"
   ]
  },
  {
   "cell_type": "code",
   "execution_count": null,
   "metadata": {},
   "outputs": [],
   "source": []
  },
  {
   "cell_type": "code",
   "execution_count": null,
   "metadata": {},
   "outputs": [],
   "source": []
  },
  {
   "cell_type": "code",
   "execution_count": null,
   "metadata": {},
   "outputs": [],
   "source": []
  },
  {
   "cell_type": "code",
   "execution_count": null,
   "metadata": {},
   "outputs": [],
   "source": []
  }
 ],
 "metadata": {
  "kernelspec": {
   "display_name": "Python 3",
   "language": "python",
   "name": "python3"
  },
  "language_info": {
   "codemirror_mode": {
    "name": "ipython",
    "version": 3
   },
   "file_extension": ".py",
   "mimetype": "text/x-python",
   "name": "python",
   "nbconvert_exporter": "python",
   "pygments_lexer": "ipython3",
   "version": "3.7.3"
  }
 },
 "nbformat": 4,
 "nbformat_minor": 2
}
